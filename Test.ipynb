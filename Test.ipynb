{
 "cells": [
  {
   "cell_type": "code",
   "execution_count": 4,
   "metadata": {},
   "outputs": [
    {
     "name": "stdout",
     "output_type": "stream",
     "text": [
      "Welcome to Sage 8.1!\n",
      "\n",
      "To view the Sage tutorial in your web browser, type \"tutorial()\", and\n",
      "to view the (very detailed) Sage reference manual, type \"manual()\".\n",
      "For help on any Sage function, for example \"matrix_plot\", type\n",
      "\"matrix_plot?\" to see a help message, type \"help(matrix_plot)\" to see\n",
      "a very similar message, type \"browse_sage_doc(matrix_plot)\" to view a\n",
      "help message in a web browser, and type \"matrix_plot??\" to look at the\n",
      "function's source code.\n",
      "\n",
      "(When you type something like \"matrix_plot?\", \"help(matrix_plot)\", or\n",
      "\"matrix_plot??\", Sage may start a paging program to display the\n",
      "requested message. Type a space to scroll to the next page, type \"h\"\n",
      "to get help on the paging program, and type \"q\" to quit it and return\n",
      "to the \"sage:\" prompt.)\n",
      "\n",
      "For license information for Sage and its components, read the file\n",
      "\"COPYING.txt\" in the top-level directory of the Sage installation,\n",
      "or type \"license()\".\n",
      "\n",
      "To enter Python's interactive online help utility, type \"python_help()\".\n",
      "To get help on a Python function, module or package, type \"help(MODULE)\" or\n",
      "\"python_help(MODULE)\".\n"
     ]
    }
   ],
   "source": [
    "help()"
   ]
  },
  {
   "cell_type": "code",
   "execution_count": 6,
   "metadata": {},
   "outputs": [
    {
     "data": {
      "text/plain": [
       "1.4096240040025754"
      ]
     },
     "execution_count": 6,
     "metadata": {},
     "output_type": "execute_result"
    }
   ],
   "source": [
    "g = sin(x) + (1- x^2)\n",
    "find_root(g, 0, 2)"
   ]
  },
  {
   "cell_type": "code",
   "execution_count": 7,
   "metadata": {},
   "outputs": [
    {
     "data": {
      "text/plain": [
       "((x^2 + y)^2 + (y^2 + z + 1)^2 + 1)^2"
      ]
     },
     "execution_count": 7,
     "metadata": {},
     "output_type": "execute_result"
    }
   ],
   "source": [
    "var('x y z')\n",
    "f = (1 + (y+x^2)^2 + (1+z+y^2)^2)^2\n",
    "f"
   ]
  },
  {
   "cell_type": "code",
   "execution_count": null,
   "metadata": {},
   "outputs": [],
   "source": []
  }
 ],
 "metadata": {
  "kernelspec": {
   "display_name": "SageMath 8.1",
   "language": "",
   "name": "sagemath"
  },
  "language_info": {
   "codemirror_mode": {
    "name": "ipython",
    "version": 2
   },
   "file_extension": ".py",
   "mimetype": "text/x-python",
   "name": "python",
   "nbconvert_exporter": "python",
   "pygments_lexer": "ipython2",
   "version": "2.7.17"
  }
 },
 "nbformat": 4,
 "nbformat_minor": 2
}
